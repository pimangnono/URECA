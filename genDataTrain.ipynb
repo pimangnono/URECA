{
 "cells": [
  {
   "cell_type": "markdown",
   "metadata": {},
   "source": [
    "# Skip-gram and negative sampling"
   ]
  },
  {
   "cell_type": "code",
   "execution_count": 2,
   "metadata": {},
   "outputs": [],
   "source": [
    "import io\n",
    "import re\n",
    "import string\n",
    "import tqdm\n",
    "\n",
    "import numpy as np\n",
    "\n",
    "import tensorflow as tf\n",
    "from tensorflow.keras import layers"
   ]
  },
  {
   "cell_type": "markdown",
   "metadata": {},
   "source": [
    "### function that can be called on a list of vectorized sentences obtained from any text dataset. "
   ]
  },
  {
   "cell_type": "code",
   "execution_count": 3,
   "metadata": {},
   "outputs": [],
   "source": [
    "# Generates skip-gram pairs with negative sampling for a list of sequences\n",
    "# (int-encoded sentences) based on window size, number of negative samples\n",
    "# and vocabulary size.\n",
    "def generate_training_data(sequences, window_size, num_ns, vocab_size, seed):\n",
    "  # Elements of each training example are appended to these lists.\n",
    "  targets, contexts, labels = [], [], []\n",
    "\n",
    "  # Build the sampling table for `vocab_size` tokens.\n",
    "  sampling_table = tf.keras.preprocessing.sequence.make_sampling_table(vocab_size)\n",
    "\n",
    "  # Iterate over all sequences (sentences) in the dataset.\n",
    "  for sequence in tqdm.tqdm(sequences):\n",
    "\n",
    "    # Generate positive skip-gram pairs for a sequence (sentence).\n",
    "    positive_skip_grams, _ = tf.keras.preprocessing.sequence.skipgrams(\n",
    "          sequence,\n",
    "          vocabulary_size=vocab_size,\n",
    "          sampling_table=sampling_table,\n",
    "          window_size=window_size,\n",
    "          negative_samples=0)\n",
    "\n",
    "    # Iterate over each positive skip-gram pair to produce training examples\n",
    "    # with a positive context word and negative samples.\n",
    "    for target_word, context_word in positive_skip_grams:\n",
    "      context_class = tf.expand_dims(\n",
    "          tf.constant([context_word], dtype=\"int64\"), 1)\n",
    "      negative_sampling_candidates, _, _ = tf.random.log_uniform_candidate_sampler(\n",
    "          true_classes=context_class,\n",
    "          num_true=1,\n",
    "          num_sampled=num_ns,\n",
    "          unique=True,\n",
    "          range_max=vocab_size,\n",
    "          seed=seed,\n",
    "          name=\"negative_sampling\")\n",
    "\n",
    "      # Build context and label vectors (for one target word)\n",
    "      context = tf.concat([tf.squeeze(context_class,1), negative_sampling_candidates], 0)\n",
    "      label = tf.constant([1] + [0]*num_ns, dtype=\"int64\")\n",
    "\n",
    "      # Append each element from the training example to global lists.\n",
    "      targets.append(target_word)\n",
    "      contexts.append(context)\n",
    "      labels.append(label)\n",
    "\n",
    "  return targets, contexts, labels"
   ]
  },
  {
   "cell_type": "markdown",
   "metadata": {},
   "source": [
    "### Prepare training data for word2vec"
   ]
  },
  {
   "cell_type": "code",
   "execution_count": 9,
   "metadata": {},
   "outputs": [
    {
     "name": "stdout",
     "output_type": "stream",
     "text": [
      "Empty lines removed from abstracts.txt\n"
     ]
    }
   ],
   "source": [
    "def remove_empty_lines(filename):\n",
    "    with open(filename, 'r') as file:\n",
    "        lines = file.readlines()\n",
    "\n",
    "    # Filter out empty lines\n",
    "    non_empty_lines = [line.strip() for line in lines if line.strip()]\n",
    "\n",
    "    with open(filename, 'w') as file:\n",
    "        file.write('\\n'.join(non_empty_lines))\n",
    "\n",
    "filename = 'abstracts.txt'\n",
    "remove_empty_lines(filename)\n",
    "print(\"Empty lines removed from\", filename)\n"
   ]
  },
  {
   "cell_type": "code",
   "execution_count": 10,
   "metadata": {},
   "outputs": [
    {
     "name": "stdout",
     "output_type": "stream",
     "text": [
      "ERK1 and ERK2 are related protein-serine/threonine kinases that participate in the Ras-Raf-MEK-ERK signal transduction cascade. This cascade participates in the regulation of a large variety of processes including cell adhesion, cell cycle progression, cell migration, cell survival, differentiation, metabolism, proliferation, and transcription. MEK1/2 catalyze the phosphorylation of human ERK1/2 at Tyr204/187 and then Thr202/185. The phosphorylation of both tyrosine and threonine is required for enzyme activation. Whereas the Raf kinase and MEK families have narrow substrate specificity, ERK1/2 catalyze the phosphorylation of hundreds of cytoplasmic and nuclear substrates including regulatory molecules and transcription factors. ERK1/2 are proline-directed kinases that preferentially catalyze the phosphorylation of substrates containing a Pro-Xxx-Ser/Thr-Pro sequence. Besides this primary structure requirement, many ERK1/2 substrates possess a D-docking site, an F-docking site, or both. A variety of scaffold proteins including KSR1/2, IQGAP1, MP1, β-Arrestin1/2 participate in the regulation of the ERK1/2 MAP kinase cascade. The regulatory dephosphorylation of ERK1/2 is mediated by protein-tyrosine specific phosphatases, protein-serine/threonine phosphatases, and dual specificity phosphatases. The combination of kinases and phosphatases make the overall process reversible. The ERK1/2 catalyzed phosphorylation of nuclear transcription factors including those of Ets, Elk, and c-Fos represents an important function and requires the translocation of ERK1/2 into the nucleus by active and passive processes involving the nuclear pore. These transcription factors participate in the immediate early gene response. The activity of the Ras-Raf-MEK-ERK cascade is increased in about one-third of all human cancers, and inhibition of components of this cascade by targeted inhibitors represents an important anti-tumor strategy. Thus far, however, only inhibition of mutant B-Raf (Val600Glu) has been found to be therapeutically efficacious.\n",
      "In this study, we provide novel insight into the mechanism of how ERK2 can be sorted to different intracellular compartments and thereby mediate different responses. MEK1-activated ERK2 accumulated in the nucleus and induced proliferation. Conversely, MEK2-activated ERK2 was retained in the cytoplasm and allowed survival. Localization was a determinant for ERK2 functions since MEK1 switched from providing proliferation to be a mediator of survival when ERK2 was routed to the cytoplasm by the attachment of a nuclear export site. MEK1-mediated ERK2 nuclear translocation and proliferation were shown to depend on phosphorylation of S298 and T292 sites in the MEK1 proline-rich domain. These sites are phosphorylated on cellular adhesion in MEK1 but not MEK2. Whereas p21-activated kinase phosphorylates S298 and thus enhances the MEK1-ERK2 association, ERK2 phosphorylates T292, leading to release of active ERK2 from MEK1. On the basis of these results, we propose that the requirement of adhesion for cells to proliferate in response to growth factors, in part, may be explained by the MEK1 S298/T292 control of ERK2 nuclear translocation. In addition, we suggest that ERK2 intracellular localization determines whether growth factors mediate proliferation or survival and that the sorting occurs in an adhesion-dependent manner.\n",
      "The mitogen-activated protein (MAP) kinase extracellular-signal-regulated kinases (ERKs) are activated by diverse mechanisms. These include ligation of receptor tyrosine kinases such as epidermal growth factor (EGF) and cell adhesion receptors such as the integrins. In general, ligand binding of these receptors leads to GTP loading and activation of the small GTPase Ras, which recruits Raf to the membrane where it is activated. Raf subsequently phosphorylates the dual specificity MAP/ERK kinase (MEK1/2) which in turn phosphorylates and thereby activates ERK. ERK is a promiscuous kinase and can phosphorylate more than 100 different substrates. Therefore activation of ERK can affect a broad array of cellular functions including proliferation, survival, apoptosis, motility, transcription, metabolism and differentiation. ERK activity is controlled by many distinct mechanisms. Scaffold proteins control when and where ERK is activated while anchoring proteins can restrain ERK localization to specific subcellular compartments. Meanwhile, phosphatases dephosphorylate and inactivate ERK thereby shutting off the pathway. Finally, several feedback mechanisms have been identified downstream of ERK activation. Here we will focus on the diverse mechanisms of ERK regulation in mammalian cells.\n",
      "The Extracellular Regulated Kinase 1 and 2 transduce a variety of extracellular stimuli regulating processes as diverse as proliferation, differentiation and synaptic plasticity. Once activated in the cytoplasm, ERK1 and ERK2 translocate into the nucleus and interact with nuclear substrates to induce specific programs of gene expression. ERK1/2 share 85% of aminoacid identity and all known functional domains and thence they have been considered functionally equivalent until recent studies found that the ablation of either ERK1 or ERK2 causes dramatically different phenotypes. To search a molecular justification of this dichotomy we investigated whether the different functions of ERK1 and 2 might depend on the properties of their cytoplasmic-nuclear trafficking. Since in the nucleus ERK1/2 is predominantly inactivated, the maintenance of a constant level of nuclear activity requires continuous shuttling of activated protein from the cytoplasm. For this reason, different nuclear-cytoplasmic trafficking of ERK1 and 2 would cause a differential signalling capability. We have characterised the trafficking of fluorescently tagged ERK1 and ERK2 by means of time-lapse imaging in living cells. Surprisingly, we found that ERK1 shuttles between the nucleus and cytoplasm at a much slower rate than ERK2. This difference is caused by a domain of ERK1 located at its N-terminus since the progressive deletion of these residues converted the shuttling features of ERK1 into those of ERK2. Conversely, the fusion of this ERK1 sequence at the N-terminus of ERK2 slowed down its shuttling to a similar value found for ERK1. Finally, computational, biochemical and cellular studies indicated that the reduced nuclear shuttling of ERK1 causes a strong reduction of its nuclear phosphorylation compared to ERK2, leading to a reduced capability of ERK1 to carry proliferative signals to the nucleus. This mechanism significantly contributes to the differential ability of ERK1 and 2 to generate an overall signalling output.\n",
      "The extracellular-regulated kinases ERK1 and ERK2 (commonly referred to as ERK1/2) have a crucial role in cardiac hypertrophy. ERK1/2 is activated by mitogen-activated protein kinase kinase-1 (MEK1) and MEK2 (commonly referred to as MEK1/2)-dependent phosphorylation in the TEY motif of the activation loop, but how ERK1/2 is targeted toward specific substrates is not well understood. Here we show that autophosphorylation of ERK1/2 on Thr188 directs ERK1/2 to phosphorylate nuclear targets known to cause cardiac hypertrophy. Thr188 autophosphorylation requires the activation and assembly of the entire Raf-MEK-ERK kinase cascade, phosphorylation of the TEY motif, dimerization of ERK1/2 and binding to G protein betagamma subunits released from activated G(q). Thr188 phosphorylation of ERK1/2 was observed in isolated cardiomyocytes induced to undergo hypertrophic growth, in mice upon stimulation of G(q)-coupled receptors or after aortic banding and in failing human hearts. Experiments using transgenic mouse models carrying mutations at the Thr188 phosphorylation site of ERK2 suggested a causal relationship to cardiac hypertrophy. We propose that specific phosphorylation events on ERK1/2 integrate differing upstream signals (Raf1-MEK1/2 or G protein-coupled receptor-G(q)) to induce cardiac hypertrophy.\n",
      "Regulating ERK activity is essential for normal cell proliferation to occur. In mammals and most vertebrates ERK activity is provided by ERK1 and ERK2 that are highly similar, ubiquitously expressed and share activators and substrates. By combining single and double silencings of ERK1 and ERK2 we recently demonstrated that the apparent dominant role of ERK2 to regulate cell proliferation was due to its markedly higher expression level than ERK1. The contribution of ERK1 was revealed when ERK2 activation was clamped to avoid compensating over-activation of ERK2. We found no evidences in the literature for insulated isoform-specific modules in the Ras/Raf/MEK signaling cascade that could activate specifically ERK1 or ERK2. Obviously in frogs all signal integration and fine modulation provided by three Ras and three Raf isoforms is conducted by only one MEK and one ERK isoform. In mammals, ERK1 and ERK2 display similar specific activities and are activated respectively to their expression levels. After integrating signals from Ras, Raf and MEK isoforms, ERK1 and ERK2 regulate positively cell proliferation according to their expression levels.\n",
      "The mitogen-activated protein kinase (MAPK) signal transduction pathway plays a central role in regulating tumor cell growth, survival, differentiation, and angiogenesis. The key components of the Ras/Raf/MEK/ERK signal module are frequently altered in human cancers. Targeting this pathway represents a promising anticancer strategy. Small molecule inhibitors targeting MEK1/2 have shown promise in the clinic; however, ultimate clinical proof-of-concept remains elusive. Here, we report a potent and highly selective non-ATP-competitive MEK1/2 inhibitor, RO4927350, with a novel chemical structure and unique mechanism of action. It selectively blocks the MAPK pathway signaling both in vitro and in vivo, which results in significant antitumor efficacy in a broad spectrum of tumor models. Compared with previously reported MEK inhibitors, RO4927350 inhibits not only ERK1/2 but also MEK1/2 phosphorylation. In cancer cells, high basal levels of phospho-MEK1/2 rather than phospho-ERK1/2 seem to correlate with greater sensitivity to RO4927350. Furthermore, RO4927350 prevents a feedback increase in MEK phosphorylation, which has been observed with other MEK inhibitors. We show that B-Raf rather than C-Raf plays a critical role in the feedback regulation. The unique MAPK signaling blockade mediated by RO4927350 in cancer may reduce the risk of developing drug resistance. Thus, RO4927350 represents a novel therapeutic modality in cancers with aberrant MAPK pathway activation.\n",
      "Erk1/2 mitogen-activated protein kinases (MAPKs) are often hyperactivated in human cancers, where they affect multiple processes, including proliferation. However, the effects of Erk1/2 loss in normal epithelial tissue, the setting of most extracellular signal-regulated kinase (Erk)-associated neoplasms, are unknown. In epidermis, loss of Erk1 or Erk2 individually has no effect, whereas simultaneous Erk1/2 depletion inhibits cell division, demonstrating that these MAPKs are necessary for normal tissue self-renewal. Growth inhibition caused by Erk1/2 loss is rescued by reintroducing Erk2, but not by activating Erk effectors that promote G1 cell cycle progression. Unlike fibroblasts, in which Erk1/2 loss decreases cyclin D1 expression and induces G1/S arrest, Erk1/2 loss in epithelial cells reduces cyclin B1 and c-Fos expression and induces G2/M arrest while disrupting a gene regulatory network centered on cyclin B1-Cdc2. Thus, the cell cycle stages at which Erk1/2 activity is required vary by cell type, with Erk1/2 functioning in epithelial cells to enable progression through G2/M.\n",
      "Kinase activity is known as the key biochemical property of MAPKs. Here, we report that ERK1/2 also utilizes its noncatalytic function to mediate certain signal transductions. Sustained activation of the Raf/MEK/ERK pathway induces growth arrest, accompanied by changes in cell cycle regulators (decreased retinoblastoma phosphorylation, E2F1 down-regulation, and/or p21(CIP1) up-regulation) and cell type-specific changes in morphology and expression of c-Myc or RET in the human tumor lines LNCaP, U251, and TT. Ablation of ERK1/2 by RNA interference abrogated all these effects. However, active site-disabled ERK mutants (ERK1-K71R, ERK2-K52R, and ERK2-D147A), which competitively inhibit activation of endogenous ERK1/2, could not block Raf/MEK-induced growth arrest as well as changes in the cell cycle regulators, although they effectively blocked phosphorylation of the ERK1/2 catalytic activity readouts, p90(RSK) and ELK1, as well as the cell type-specific changes. Because this indicated a potential noncatalytic ERK1/2 function, we generated stable lines of the tumor cells in which both ERK1 and ERK2 were significantly knocked down, and we further investigated the possibility using rat-derived kinase-deficient ERK mutants (ERK2-K52R and ERK2-T183A/Y185F) that were not targeted by human small hairpin RNA. Indeed, ERK2-K52R selectively restored Raf-induced growth inhibitory signaling in ERK1/2-depleted cells, as manifested by regained cellular ability to undergo growth arrest and to control the cell cycle regulators without affecting c-Myc and morphology. However, ERK2-T183A/Y185F was less effective, indicating the requirement of TEY site phosphorylation. Our study suggests that functions of ERK1/2 other than its \"canonical\" kinase activity are also involved in the pathway-mediated growth arrest signaling.\n",
      "The mitogen-activated protein kinases MEK/ERK pathway regulates fundamental processes in malignant cells and represents an attractive target in the development of new cancer treatments especially for human hepatocarcinoma highly resistant to chemotherapy. Although gene extinction experiments have suggested distinct roles for these proteins, the MEK/ERK cascade remains widely considered as exhibiting an overlap of functions. To investigate the functionality of each kinase in tumorigenesis, we have generated stably knock-down clones for MEK1/2 and ERK1/2 isoforms in the human hepatocellular carcinoma line HuH7. Our results have shown that RNAi strategy allows a specific disruption of the targeted kinases and argued for the critical function of MEK1 in liver tumor growth. Transient and stable extinction experiments demonstrated that MEK1 isoform acts as a major element in the signal transduction by phosphorylating ERK1 and ERK2 after growth factors stimulation, whereas oncogenic level of ERK1/2 phosphorylation appears to be MEK1 and MEK2 dependent in basal condition. In addition, silencing of MEK1 or ERK2 abolished cell proliferation and DNA replication in vitro as well as tumor growth in vivo after injection in rodent. In contrast, targeting MEK2 or ERK1 had no effect on hepatocarcinoma progression. These results strongly corroborate the relevance of targeting the MEK cascade as attested by pharmacologic drugs and support the potential application of RNAi in future development of more effective cancer therapies. Our study emphasizes the importance of the MEK/ERK pathway in human hepatocarcinoma cell growth and argues for a crucial role of MEK1 and ERK2 in this regulation.\n",
      "Extracellular signal regulated kinases (ERKs) are a class of MAP kinases that function in many signaling pathways in eukaryotic cells and in some cases, a single stimulus can activate more than one ERK suggesting functional redundancy or divergence from a common pathway. Dictyostelium discoideum encodes only two MAP kinases, ERK1 and ERK2, that both function during the developmental life cycle. To determine if ERK1 and ERK2 have overlapping functions, chemotactic and developmental phenotypes of erk1(-) and erk2(-) mutants were assessed with respect to G protein-mediated signal transduction pathways. ERK1 was specifically required for Galpha5-mediated tip morphogenesis and inhibition of folate chemotaxis but not for cAMP-stimulated chemotaxis or cGMP accumulation. ERK2 was the primary MAPK phosphorylated in response to folate or cAMP stimulation. Cell growth was not altered in erk1(-), erk2(-) or erk1(-)erk2(-) mutants but each mutant displayed a different pattern of cell sorting in chimeric aggregates. The distribution of GFP-ERK1 or GFP-ERK2 fusion proteins in the cytoplasm and nucleus was not grossly altered in cells stimulated with cAMP or folate. These results suggest ERK1 and ERK2 have different roles in G protein-mediated signaling during growth and development.\n",
      "Accumulating evidence indicates that p44(ERK1) and p42(ERK2) mitogen-activated protein kinases (MAPKs) have distinct quantitative roles in cell signaling. In our recently proposed model of regulation of ERK1 and ERK2, p42 plays a major role in delivering signals from the cell membrane to the nucleus, while p44 acts as a partial agonist of ERK2 toward effectors and downstream activators, thus providing a fine tuning system of the global signaling output. Here, we describe systems to modulate MAPK signaling in vitro and in vivo via lentiviral vector (LV)-mediated gene transfer, using three systems: RNAi with small hairpin RNAs, microRNA-mediated gene knockdown, and expression of signaling-interfering mutants of MEK1. We show, by using proliferation assays in mouse embryo fibroblasts (MEF) and NIH 3T3 cells, that gene knockdown of ERK1 promotes cell proliferation in a manner indistinguishable from a constitutively active MEK1 construct, while ERK2 RNAi causes a significant growth arrest, similar to that observed with the ectopic expression of a dominant negative MEK1 mutant.\n",
      "The mitogen-activated protein kinases (MAPKs) extracellular signal-regulated kinase 1 (ERK1) and ERK2 play well-characterized roles in the regulation of key cellular processes, such as proliferation, differentiation, and survival, by acting as serine and threonine kinases in the phosphorylation of ~200 substrates that are distributed in different subcellular localizations. However, over the past few years, evidence has mounted that indicates that the mechanism of action of ERK1 and ERK2 may extend beyond their role as canonical kinases. For example, proteins such as poly(ADP-ribose) polymerase 1, topoisomerase II, and MAPK phosphatase 3 (MKP-3) are activated by a direct interaction with ERK2 that does not involve any phosphotransfer activity. In addition, ERK2 binds to DNA and acts as a transcriptional regulator independently of its function as a kinase. Moreover, other studies demonstrate that ERK1 and ERK2 can regulate cell cycle entry by disrupting the interaction between the retinoblastoma pocket protein and lamin A in a kinase-independent fashion. These findings strongly support the notion that ERK1 and ERK2 can play functionally important roles independently of their regular catalytic activities and provide the basis for a new perspective from which to view these hitherto archetypical signaling kinases.\n",
      "MEK1 and MEK2 are related protein kinases that participate in the RAS-RAF-MEK-ERK signal transduction cascade. This cascade participates in the regulation of a large variety of processes including apoptosis, cell cycle progression, cell migration, differentiation, metabolism, and proliferation. Moreover, oncogenic mutations in RAS or B-RAF are responsible for a large proportion of human cancers. MEK1 is activated by phosphorylation of S218 and S222 in its activation segment as catalyzed by RAF kinases in an intricate process that involves a KSR scaffold. Besides functioning as a scaffold, the kinase activity of KSR is also required for MEK activation. MEK1 regulation is unusual in that S212 phosphorylation in its activation segment is inhibitory. Moreover, active ERK catalyzes a feedback inhibitory phosphorylation of MEK1 T292 that serves to downregulate the pathway.\n",
      "Aberrant signalling of receptor tyrosine kinases (RTKs), such as c-Met, the receptor for hepatocyte growth factor (HGF), has been implicated in the oncogenesis of various tumours including non-small cell lung carcinoma (NSCLC). Through its pro-migratory properties, c-Met has been implicated specifically in the process of tumour metastasis, demanding a better understanding of the underlying signalling pathways. Various players downstream of c-Met have been well characterised, including the extracellular-signal-regulated kinases (ERKs) 1 and 2. In a small interfering RNA (siRNA)-based high-throughput wound healing screen performed in A549 lung carcinoma cells, we identified ERK2 but not ERK1 as a strong mediator of HGF-induced motility. This finding was confirmed in several NSCLC cell lines as well as in HeLa cells. One known substrate for ERK kinases in cell migration, the focal adhesion protein paxillin, was also one of the hits identified in the screen. We demonstrate that HGF stimulation results in a time-dependent phosphorylation of paxillin on serine 126, a process that can be blocked by inhibition of the ERK1/2 upstream kinase mitogen-activated protein kinase/ERK kinase 1 (MEK1) or inhibition of glycogen synthase kinase 3 (GSK3). Further, we show that paxillin turnover at focal adhesions is increased upon stimulation by HGF, an effect that is dependent on serine residues 126 (GSK3 site) and 130 (ERK site) within paxillin. In line with the isoform-specific requirement of ERK2 for HGF-mediated migration in lung tumour cell models, ERK2 but not ERK1 is shown to be responsible for paxillin serine 126 phosphorylation and its increased turnover at focal adhesions.\n",
      "The ERK1/2 MAP kinase pathway is an evolutionarily conserved signaling module that controls many fundamental physiological processes. Deregulated activity of ERK1/2 MAP kinases is associated with developmental syndromes and several human diseases. Despite the importance of this pathway, a comprehensive picture of the natural substrate repertoire and biochemical mechanisms regulated by ERK1/2 is still lacking. In this study, we used large-scale quantitative phosphoproteomics and bioinformatics analyses to identify novel candidate ERK1/2 substrates based on their phosphorylation signature and kinetic profiles in epithelial cells. We identified a total of 7936 phosphorylation sites within 1861 proteins, of which 155 classify as candidate ERK1/2 substrates, including 128 new targets. Candidate ERK1/2 substrates are involved in diverse cellular processes including transcriptional regulation, chromatin remodeling, RNA splicing, cytoskeleton dynamics, cellular junctions and cell signaling. Detailed characterization of one newly identified substrate, the transcriptional regulator JunB, revealed that ERK1/2 phosphorylate JunB on a serine adjacent to the DNA-binding domain, resulting in increased DNA-binding affinity and transcriptional activity. Our study expands the spectrum of cellular functions controlled by ERK1/2 kinases.\n",
      "Histone deacetylase 6 (HDAC6) is well known for its ability to promote cell migration through deacetylation of its cytoplasmic substrates such as α-tubulin. However, how HDAC6 itself is regulated to control cell motility remains elusive. Previous studies have shown that one third of extracellular signal-regulated kinase (ERK) is associated with the microtubule cytoskeleton in cells. Yet, no connection between HDAC6 and ERK has been discovered. Here, for the first time, we reveal that ERK binds to and phosphorylates HDAC6 to promote cell migration via deacetylation of α-tubulin. We have identified two novel ERK-mediated phosphorylation sites: threonine 1031 and serine 1035 in HDAC6. Both sites were phosphorylated by ERK1 in vitro, whereas Ser-1035 was phosphorylated in response to the activation of EGFR-Ras-Raf-MEK-ERK signaling pathway in vivo. HDAC6-null mouse embryonic fibroblasts rescued by the nonphosphorylation mimicking mutant displayed significantly reduced cell migration compared with those rescued by the wild type. Consistently, the nonphosphorylation mimicking mutant exerted lower tubulin deacetylase activity in vivo compared with the wild type. These data indicate that ERK/HDAC6-mediated cell motility is through deacetylation of α-tubulin. Overall, our results suggest that HDAC6-mediated cell migration could be governed by EGFR-Ras-Raf-MEK-ERK signaling.\n",
      "The mitogen-activated protein (MAP) kinase pathway is a target for anticancer therapy, validated using inhibitors of B-Raf and MAP kinase kinase (MKK) 1 and 2. Clinical outcomes show a high frequency of acquired resistance in patient tumors, involving upregulation of activity of the MAP kinase, extracellular signal-regulated kinase (ERK) 1 and 2. Thus, inhibitors for ERK1/2 are potentially important for targeted therapeutics against cancer. The structures and potencies of different ERK inhibitors have been published, but their kinetic mechanisms have not been characterized. Here we perform enzyme kinetic studies on six representative ERK inhibitors, with potencies varying from 100 pM to 20 μM. Compounds with significant biological activity (IC50 < 100 nM) that inhibit in the subnanomolar range (Vertex-11e and SCH772984) display slow-onset inhibition and represent the first inhibitors of ERK2 known to demonstrate slow dissociation rate constants (values of 0.2 and 1.1 h(-1), respectively). Furthermore, we demonstrate using kinetic competition assays that Vertex-11e binds with differing affinities to ERK2 in its inactive, unphosphorylated and active, phosphorylated forms. Finally, two-dimensional heteronuclear multiple-quantum correlation nuclear magnetic resonance experiments reveal that distinct conformational states are formed in complexes of Vertex-11e with inactive and active ERK2. Importantly, two conformers interconvert in equilibrium in the active ERK2 apoenzyme, but Vertex-11e strongly shifts the equilibrium completely to one conformer. Thus, a high-affinity, slow dissociation inhibitor stabilizes different enzyme conformations depending on the activity state of ERK2 and reveals properties of conformational selection toward the active kinase.\n",
      "ERK1 and ERK2 are the effector kinases of the ERK1/2 MAP-kinase signaling pathway, which plays a central role in transducing signals controlling cell proliferation, differentiation, and survival. Deregulated activity of the ERK1/2 pathway is linked to a group of developmental syndromes and contributes to the pathogenesis of various human diseases. One fundamental question that remains unaddressed is whether ERK1 and ERK2 have evolved unique physiological functions or whether they are used redundantly to reach a threshold of global ERK activity. Here, we show that the extent of development of the mouse placenta and embryo bearing different combinations of Erk1 and Erk2 alleles is strictly correlated with total ERK1/2 activity. We further demonstrate that transgenic expression of ERK1 fully rescues the embryonic and placental developmental defects associated with the loss of ERK2. We conclude that ERK1 and ERK2 exert redundant functions in mouse development.\n",
      "The MAP kinase signaling cascade Ras/Raf/MEK/ERK has been involved in a large variety of cellular and physiological processes that are crucial for life. Many pathological situations have been associated to this pathway. More than one isoform has been described at each level of the cascade. In this review we devoted our attention to ERK1 and ERK2, which are the effector kinases of the pathway. Whether ERK1 and ERK2 specify functional differences or are in contrast functionally redundant, constitutes an ongoing debate despite the huge amount of studies performed to date. In this review we compiled data on ERK1 vs. ERK2 gene structures, protein sequences, expression levels, structural and molecular mechanisms of activation and substrate recognition. We have also attempted to perform a rigorous analysis of studies regarding the individual roles of ERK1 and ERK2 by the means of morpholinos, siRNA, and shRNA silencing as well as gene disruption or gene replacement in mice. Finally, we comment on a recent study of gene and protein evolution of ERK isoforms as a distinct approach to address the same question. Our review permits the evaluation of the relevance of published studies in the field especially when measurements of global ERK activation are taken into account. Our analysis favors the hypothesis of ERK1 and ERK2 exhibiting functional redundancy and points to the concept of the global ERK quantity, and not isoform specificity, as being the essential determinant to achieve ERK function.\n"
     ]
    }
   ],
   "source": [
    "with open(filename) as f:\n",
    "  lines = f.read().splitlines()\n",
    "for line in lines[:20]:\n",
    "  print(line)"
   ]
  },
  {
   "cell_type": "markdown",
   "metadata": {},
   "source": [
    "### loads text from text files and creates a dataset where each line of the files becomes an element of the dataset."
   ]
  },
  {
   "cell_type": "code",
   "execution_count": 17,
   "metadata": {},
   "outputs": [],
   "source": [
    "text_ds = tf.data.TextLineDataset(filename).filter(lambda x: tf.cast(tf.strings.length(x), bool))"
   ]
  },
  {
   "cell_type": "markdown",
   "metadata": {},
   "source": [
    "### vectorize sentences"
   ]
  },
  {
   "cell_type": "code",
   "execution_count": 20,
   "metadata": {},
   "outputs": [],
   "source": [
    "# Now, create a custom standardization function to lowercase the text and\n",
    "# remove punctuation.\n",
    "def custom_standardization(input_data):\n",
    "  lowercase = tf.strings.lower(input_data)\n",
    "  return tf.strings.regex_replace(lowercase,\n",
    "                                  '[%s]' % re.escape(string.punctuation), '')\n",
    "\n",
    "\n",
    "# Define the vocabulary size and the number of words in a sequence.\n",
    "vocab_size = 4096\n",
    "sequence_length = 10\n",
    "\n",
    "# Use the `TextVectorization` layer to normalize, split, and map strings to\n",
    "# integers. Set the `output_sequence_length` length to pad all samples to the\n",
    "# same length.\n",
    "vectorize_layer = layers.TextVectorization(\n",
    "    standardize=custom_standardization,\n",
    "    max_tokens=vocab_size,\n",
    "    output_mode='int',\n",
    "    output_sequence_length=sequence_length)"
   ]
  },
  {
   "cell_type": "code",
   "execution_count": 21,
   "metadata": {},
   "outputs": [
    {
     "name": "stderr",
     "output_type": "stream",
     "text": [
      "2024-02-16 23:31:48.103581: I tensorflow/core/grappler/optimizers/custom_graph_optimizer_registry.cc:117] Plugin optimizer for device_type GPU is enabled.\n"
     ]
    }
   ],
   "source": [
    "vectorize_layer.adapt(text_ds.batch(1024))"
   ]
  },
  {
   "cell_type": "code",
   "execution_count": 22,
   "metadata": {},
   "outputs": [
    {
     "name": "stdout",
     "output_type": "stream",
     "text": [
      "['', '[UNK]', 'the', 'of', 'and', 'in', 'to', 'a', 'for', 'with', 'that', 'is', 'by', 'we', 'were', 'as', 'was', 'are', 'from', 'on']\n"
     ]
    }
   ],
   "source": [
    "# Save the created vocabulary for reference.\n",
    "inverse_vocab = vectorize_layer.get_vocabulary()\n",
    "print(inverse_vocab[:20])"
   ]
  },
  {
   "cell_type": "code",
   "execution_count": 24,
   "metadata": {},
   "outputs": [],
   "source": [
    "AUTOTUNE = tf.data.experimental.AUTOTUNE\n",
    "\n",
    "# Vectorize the data in text_ds.\n",
    "text_vector_ds = text_ds.batch(1024).prefetch(AUTOTUNE).map(vectorize_layer).unbatch()"
   ]
  },
  {
   "cell_type": "markdown",
   "metadata": {},
   "source": [
    "### obtain sequences from the dataset\n",
    "\n",
    "I now have a tf.data.Dataset of integer encoded sentences. To prepare the dataset for training a word2vec model, flatten the dataset into a list of sentence vector sequences. This step is required as I would iterate over each sentence in the dataset to produce positive and negative examples."
   ]
  },
  {
   "cell_type": "code",
   "execution_count": 25,
   "metadata": {},
   "outputs": [
    {
     "name": "stdout",
     "output_type": "stream",
     "text": [
      "20010\n"
     ]
    }
   ],
   "source": [
    "sequences = list(text_vector_ds.as_numpy_iterator())\n",
    "print(len(sequences))"
   ]
  },
  {
   "cell_type": "code",
   "execution_count": 26,
   "metadata": {},
   "outputs": [
    {
     "name": "stdout",
     "output_type": "stream",
     "text": [
      "[3697    4 2793   17  228    1 1917   10 2726    5] => ['erk1', 'and', 'erk2', 'are', 'related', '[UNK]', 'kinases', 'that', 'participate', 'in']\n",
      "[   5   20   30   13  128  105 1311   63    2  175] => ['in', 'this', 'study', 'we', 'provide', 'novel', 'insight', 'into', 'the', 'mechanism']\n",
      "[   2    1   28  512  666    1 1917    1   17 1142] => ['the', '[UNK]', 'protein', 'map', 'kinase', '[UNK]', 'kinases', '[UNK]', 'are', 'activated']\n",
      "[   2 1255 1023  666  111    4  125    1    7  685] => ['the', 'extracellular', 'regulated', 'kinase', '1', 'and', '2', '[UNK]', 'a', 'variety']\n",
      "[   2    1 1917 3697    4 2793 1198 2376    6   15] => ['the', '[UNK]', 'kinases', 'erk1', 'and', 'erk2', 'commonly', 'referred', 'to', 'as']\n"
     ]
    }
   ],
   "source": [
    "for seq in sequences[:5]:\n",
    "  print(f\"{seq} => {[inverse_vocab[i] for i in seq]}\")"
   ]
  },
  {
   "cell_type": "markdown",
   "metadata": {},
   "source": [
    "### Generating training examples from sequences\n",
    "\n",
    "sequences is now a list of int encoded sentences. Just call the generate_training_data function defined earlier to generate training examples for the word2vec model."
   ]
  },
  {
   "cell_type": "code",
   "execution_count": 28,
   "metadata": {},
   "outputs": [
    {
     "name": "stderr",
     "output_type": "stream",
     "text": [
      "100%|██████████████████████████████████████████████| 20010/20010 [00:55<00:00, 362.97it/s]\n"
     ]
    },
    {
     "name": "stdout",
     "output_type": "stream",
     "text": [
      "\n",
      "\n",
      "targets.shape: (60678,)\n",
      "contexts.shape: (60678, 5)\n",
      "labels.shape: (60678, 5)\n"
     ]
    }
   ],
   "source": [
    "SEED = 42\n",
    "\n",
    "targets, contexts, labels = generate_training_data(\n",
    "    sequences=sequences,\n",
    "    window_size=2,\n",
    "    num_ns=4,\n",
    "    vocab_size=vocab_size,\n",
    "    seed=SEED)\n",
    "\n",
    "targets = np.array(targets)\n",
    "contexts = np.array(contexts)\n",
    "labels = np.array(labels)\n",
    "\n",
    "print('\\n')\n",
    "print(f\"targets.shape: {targets.shape}\")\n",
    "print(f\"contexts.shape: {contexts.shape}\")\n",
    "print(f\"labels.shape: {labels.shape}\")"
   ]
  },
  {
   "cell_type": "markdown",
   "metadata": {},
   "source": [
    "### configure the dataset for performance\n",
    "\n",
    "To perform efficient batching for the potentially large number of training examples, use the tf.data.Dataset API. After this step, I would have a tf.data.Dataset object of (target_word, context_word), (label) elements to train my word2vec model!"
   ]
  },
  {
   "cell_type": "code",
   "execution_count": 29,
   "metadata": {},
   "outputs": [
    {
     "name": "stdout",
     "output_type": "stream",
     "text": [
      "<_BatchDataset element_spec=((TensorSpec(shape=(1024,), dtype=tf.int64, name=None), TensorSpec(shape=(1024, 5), dtype=tf.int64, name=None)), TensorSpec(shape=(1024, 5), dtype=tf.int64, name=None))>\n"
     ]
    }
   ],
   "source": [
    "BATCH_SIZE = 1024\n",
    "BUFFER_SIZE = 10000\n",
    "dataset = tf.data.Dataset.from_tensor_slices(((targets, contexts), labels))\n",
    "dataset = dataset.shuffle(BUFFER_SIZE).batch(BATCH_SIZE, drop_remainder=True)\n",
    "print(dataset)"
   ]
  },
  {
   "cell_type": "markdown",
   "metadata": {},
   "source": [
    "Apply Dataset.cache and Dataset.prefetch to improve performance:"
   ]
  },
  {
   "cell_type": "code",
   "execution_count": 30,
   "metadata": {},
   "outputs": [
    {
     "name": "stdout",
     "output_type": "stream",
     "text": [
      "<_PrefetchDataset element_spec=((TensorSpec(shape=(1024,), dtype=tf.int64, name=None), TensorSpec(shape=(1024, 5), dtype=tf.int64, name=None)), TensorSpec(shape=(1024, 5), dtype=tf.int64, name=None))>\n"
     ]
    }
   ],
   "source": [
    "dataset = dataset.cache().prefetch(buffer_size=AUTOTUNE)\n",
    "print(dataset)"
   ]
  },
  {
   "cell_type": "markdown",
   "metadata": {},
   "source": [
    "# Model and training\n",
    "\n",
    "The word2vec model can be implemented as a classifier to distinguish between true context words from skip-grams and false context words obtained through negative sampling. "
   ]
  },
  {
   "cell_type": "code",
   "execution_count": 34,
   "metadata": {},
   "outputs": [],
   "source": [
    "# Set the number of negative samples per positive context.\n",
    "num_ns = 4\n",
    "\n",
    "class Word2Vec(tf.keras.Model):\n",
    "  def __init__(self, vocab_size, embedding_dim):\n",
    "    super(Word2Vec, self).__init__()\n",
    "    self.target_embedding = layers.Embedding(vocab_size,\n",
    "                                      embedding_dim,\n",
    "                                      input_length=1,\n",
    "                                      name=\"w2v_embedding\")\n",
    "    self.context_embedding = layers.Embedding(vocab_size,\n",
    "                                       embedding_dim,\n",
    "                                       input_length=num_ns+1)\n",
    "\n",
    "  def call(self, pair):\n",
    "    target, context = pair\n",
    "    # target: (batch, dummy?)  # The dummy axis doesn't exist in TF2.7+\n",
    "    # context: (batch, context)\n",
    "    if len(target.shape) == 2:\n",
    "      target = tf.squeeze(target, axis=1)\n",
    "    # target: (batch,)\n",
    "    word_emb = self.target_embedding(target)\n",
    "    # word_emb: (batch, embed)\n",
    "    context_emb = self.context_embedding(context)\n",
    "    # context_emb: (batch, context, embed)\n",
    "    dots = tf.einsum('be,bce->bc', word_emb, context_emb)\n",
    "    # dots: (batch, context)\n",
    "    return dots"
   ]
  },
  {
   "cell_type": "markdown",
   "metadata": {},
   "source": [
    "### define loss function and compile model"
   ]
  },
  {
   "cell_type": "code",
   "execution_count": 32,
   "metadata": {},
   "outputs": [],
   "source": [
    "def custom_loss(x_logit, y_true):\n",
    "      return tf.nn.sigmoid_cross_entropy_with_logits(logits=x_logit, labels=y_true)"
   ]
  },
  {
   "cell_type": "markdown",
   "metadata": {},
   "source": [
    "instantiate my word2vec class with an embedding dimension of 128. compile the model with the tf.keras.optimizers.Adam optimizer."
   ]
  },
  {
   "cell_type": "code",
   "execution_count": 35,
   "metadata": {},
   "outputs": [],
   "source": [
    "embedding_dim = 128\n",
    "word2vec = Word2Vec(vocab_size, embedding_dim)\n",
    "word2vec.compile(optimizer='adam',\n",
    "                 loss=tf.keras.losses.CategoricalCrossentropy(from_logits=True),\n",
    "                 metrics=['accuracy'])"
   ]
  },
  {
   "cell_type": "markdown",
   "metadata": {},
   "source": [
    "Also define a callback to log training statistics for TensorBoard:"
   ]
  },
  {
   "cell_type": "code",
   "execution_count": 36,
   "metadata": {},
   "outputs": [],
   "source": [
    "tensorboard_callback = tf.keras.callbacks.TensorBoard(log_dir=\"logs\")"
   ]
  },
  {
   "cell_type": "markdown",
   "metadata": {},
   "source": [
    "Train the model on the dataset for some number of epochs:"
   ]
  },
  {
   "cell_type": "code",
   "execution_count": 37,
   "metadata": {},
   "outputs": [
    {
     "name": "stdout",
     "output_type": "stream",
     "text": [
      "Epoch 1/20\n",
      "59/59 [==============================] - 4s 34ms/step - loss: 1.6057 - accuracy: 0.2969\n",
      "Epoch 2/20\n",
      "59/59 [==============================] - 1s 17ms/step - loss: 1.5650 - accuracy: 0.6058\n",
      "Epoch 3/20\n",
      "59/59 [==============================] - 1s 17ms/step - loss: 1.4597 - accuracy: 0.5710\n",
      "Epoch 4/20\n",
      "59/59 [==============================] - 1s 17ms/step - loss: 1.3383 - accuracy: 0.5545\n",
      "Epoch 5/20\n",
      "59/59 [==============================] - 1s 17ms/step - loss: 1.2375 - accuracy: 0.5836\n",
      "Epoch 6/20\n",
      "59/59 [==============================] - 1s 17ms/step - loss: 1.1450 - accuracy: 0.6246\n",
      "Epoch 7/20\n",
      "59/59 [==============================] - 1s 17ms/step - loss: 1.0587 - accuracy: 0.6651\n",
      "Epoch 8/20\n",
      "59/59 [==============================] - 1s 17ms/step - loss: 0.9796 - accuracy: 0.7024\n",
      "Epoch 9/20\n",
      "59/59 [==============================] - 1s 18ms/step - loss: 0.9075 - accuracy: 0.7317\n",
      "Epoch 10/20\n",
      "59/59 [==============================] - 1s 17ms/step - loss: 0.8417 - accuracy: 0.7577\n",
      "Epoch 11/20\n",
      "59/59 [==============================] - 1s 17ms/step - loss: 0.7813 - accuracy: 0.7794\n",
      "Epoch 12/20\n",
      "59/59 [==============================] - 1s 17ms/step - loss: 0.7259 - accuracy: 0.8000\n",
      "Epoch 13/20\n",
      "59/59 [==============================] - 1s 17ms/step - loss: 0.6747 - accuracy: 0.8181\n",
      "Epoch 14/20\n",
      "59/59 [==============================] - 1s 17ms/step - loss: 0.6276 - accuracy: 0.8342\n",
      "Epoch 15/20\n",
      "59/59 [==============================] - 1s 17ms/step - loss: 0.5842 - accuracy: 0.8495\n",
      "Epoch 16/20\n",
      "59/59 [==============================] - 1s 17ms/step - loss: 0.5443 - accuracy: 0.8632\n",
      "Epoch 17/20\n",
      "59/59 [==============================] - 1s 17ms/step - loss: 0.5076 - accuracy: 0.8758\n",
      "Epoch 18/20\n",
      "59/59 [==============================] - 1s 17ms/step - loss: 0.4739 - accuracy: 0.8873\n",
      "Epoch 19/20\n",
      "59/59 [==============================] - 1s 17ms/step - loss: 0.4431 - accuracy: 0.8977\n",
      "Epoch 20/20\n",
      "59/59 [==============================] - 1s 17ms/step - loss: 0.4149 - accuracy: 0.9065\n"
     ]
    },
    {
     "data": {
      "text/plain": [
       "<keras.src.callbacks.History at 0x28eacfaf0>"
      ]
     },
     "execution_count": 37,
     "metadata": {},
     "output_type": "execute_result"
    }
   ],
   "source": [
    "word2vec.fit(dataset, epochs=20, callbacks=[tensorboard_callback])"
   ]
  },
  {
   "cell_type": "markdown",
   "metadata": {},
   "source": [
    "TensorBoard now shows the word2vec model's accuracy and loss:"
   ]
  },
  {
   "cell_type": "code",
   "execution_count": 39,
   "metadata": {},
   "outputs": [],
   "source": [
    "# Load the TensorBoard notebook extension\n",
    "%load_ext tensorboard"
   ]
  },
  {
   "cell_type": "code",
   "execution_count": 40,
   "metadata": {},
   "outputs": [
    {
     "data": {
      "text/html": [
       "\n",
       "      <iframe id=\"tensorboard-frame-677a918e764e0f4\" width=\"100%\" height=\"800\" frameborder=\"0\">\n",
       "      </iframe>\n",
       "      <script>\n",
       "        (function() {\n",
       "          const frame = document.getElementById(\"tensorboard-frame-677a918e764e0f4\");\n",
       "          const url = new URL(\"/\", window.location);\n",
       "          const port = 6006;\n",
       "          if (port) {\n",
       "            url.port = port;\n",
       "          }\n",
       "          frame.src = url;\n",
       "        })();\n",
       "      </script>\n",
       "    "
      ],
      "text/plain": [
       "<IPython.core.display.HTML object>"
      ]
     },
     "metadata": {},
     "output_type": "display_data"
    }
   ],
   "source": [
    "#docs_infra: no_execute\n",
    "%tensorboard --logdir logs"
   ]
  },
  {
   "cell_type": "markdown",
   "metadata": {},
   "source": [
    "### Embedding lookup and analysis\n",
    "\n",
    "Obtain the weights from the model using Model.get_layer and Layer.get_weights. The TextVectorization.get_vocabulary function provides the vocabulary to build a metadata file with one token per line."
   ]
  },
  {
   "cell_type": "code",
   "execution_count": 41,
   "metadata": {},
   "outputs": [],
   "source": [
    "weights = word2vec.get_layer('w2v_embedding').get_weights()[0]\n",
    "vocab = vectorize_layer.get_vocabulary()"
   ]
  },
  {
   "cell_type": "markdown",
   "metadata": {},
   "source": [
    "Create and save the vectors and metadata files to analyze the obtained embeddings in the Embedding Projector:\n",
    "\n",
    "https://projector.tensorflow.org"
   ]
  },
  {
   "cell_type": "code",
   "execution_count": 42,
   "metadata": {},
   "outputs": [],
   "source": [
    "out_v = io.open('vectors.tsv', 'w', encoding='utf-8')\n",
    "out_m = io.open('metadata.tsv', 'w', encoding='utf-8')\n",
    "\n",
    "for index, word in enumerate(vocab):\n",
    "  if index == 0:\n",
    "    continue  # skip 0, it's padding.\n",
    "  vec = weights[index]\n",
    "  out_v.write('\\t'.join([str(x) for x in vec]) + \"\\n\")\n",
    "  out_m.write(word + \"\\n\")\n",
    "out_v.close()\n",
    "out_m.close()"
   ]
  },
  {
   "cell_type": "code",
   "execution_count": 43,
   "metadata": {},
   "outputs": [],
   "source": [
    "try:\n",
    "  from google.colab import files\n",
    "  files.download('vectors.tsv')\n",
    "  files.download('metadata.tsv')\n",
    "except Exception:\n",
    "  pass"
   ]
  },
  {
   "cell_type": "code",
   "execution_count": 45,
   "metadata": {},
   "outputs": [
    {
     "data": {
      "text/html": [
       "\n",
       "        <iframe\n",
       "            width=\"1333\"\n",
       "            height=\"900\"\n",
       "            src=\"https://projector.tensorflow.org/\"\n",
       "            frameborder=\"0\"\n",
       "            allowfullscreen\n",
       "            \n",
       "        ></iframe>\n",
       "        "
      ],
      "text/plain": [
       "<IPython.lib.display.IFrame at 0x291eadb10>"
      ]
     },
     "execution_count": 45,
     "metadata": {},
     "output_type": "execute_result"
    }
   ],
   "source": [
    "import IPython\n",
    "url = 'https://projector.tensorflow.org/'\n",
    "\n",
    "IPython.display.IFrame(url, width=1333, height=900)"
   ]
  },
  {
   "cell_type": "markdown",
   "metadata": {},
   "source": [
    "Need to load files"
   ]
  },
  {
   "cell_type": "code",
   "execution_count": null,
   "metadata": {},
   "outputs": [],
   "source": []
  }
 ],
 "metadata": {
  "kernelspec": {
   "display_name": "virenv",
   "language": "python",
   "name": "venv-metal"
  },
  "language_info": {
   "codemirror_mode": {
    "name": "ipython",
    "version": 3
   },
   "file_extension": ".py",
   "mimetype": "text/x-python",
   "name": "python",
   "nbconvert_exporter": "python",
   "pygments_lexer": "ipython3",
   "version": "3.10.0"
  }
 },
 "nbformat": 4,
 "nbformat_minor": 4
}
